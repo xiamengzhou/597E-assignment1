{
 "cells": [
  {
   "cell_type": "markdown",
   "metadata": {},
   "source": [
    "This notebook focuses on sources that provide predictions over a period of time. We want to examine how the performance of these models changes as we get closer to the election. \n",
    "\n",
    "Note that only FiveThirtyEight provided their state-level predictions for the election over time (for most models, we could only find the state-level predictions released on the day of the election.)  \n",
    "\n",
    "The Economist, FiveThirtyEight, PollyVote, and PredictIt provided predictions over time for the national electoral outcome."
   ]
  },
  {
   "cell_type": "code",
   "execution_count": 60,
   "metadata": {},
   "outputs": [],
   "source": [
    "import os\n",
    "import sys\n",
    "\n",
    "import numpy as np\n",
    "import pandas as pd\n",
    "import seaborn as sb\n",
    "\n",
    "%matplotlib inline"
   ]
  },
  {
   "cell_type": "markdown",
   "metadata": {},
   "source": [
    "## State-level (FiveThirtyEight only) \n",
    "\n",
    "Some of these methods are adapted from code in Buzzfeed's 2016 election forecasts [repository](https://github.com/BuzzFeedNews/2016-11-grading-the-election-forecasts/blob/master/notebooks/forecast-analysis.ipynb). "
   ]
  },
  {
   "cell_type": "code",
   "execution_count": 3,
   "metadata": {},
   "outputs": [],
   "source": [
    "DATA_DIR = \"./597E-assignment1/data\"\n",
    "WINNERS_PATH = os.path.join(DATA_DIR, 'winners.csv')\n",
    "\n",
    "winners = pd.read_csv(WINNERS_PATH)"
   ]
  },
  {
   "cell_type": "code",
   "execution_count": 4,
   "metadata": {},
   "outputs": [
    {
     "data": {
      "text/html": [
       "<div>\n",
       "<style scoped>\n",
       "    .dataframe tbody tr th:only-of-type {\n",
       "        vertical-align: middle;\n",
       "    }\n",
       "\n",
       "    .dataframe tbody tr th {\n",
       "        vertical-align: top;\n",
       "    }\n",
       "\n",
       "    .dataframe thead th {\n",
       "        text-align: right;\n",
       "    }\n",
       "</style>\n",
       "<table border=\"1\" class=\"dataframe\">\n",
       "  <thead>\n",
       "    <tr style=\"text-align: right;\">\n",
       "      <th></th>\n",
       "      <th>office</th>\n",
       "      <th>state</th>\n",
       "      <th>winner</th>\n",
       "      <th>dem_diff</th>\n",
       "      <th>dem_share</th>\n",
       "      <th>dem_share_2p</th>\n",
       "      <th>candidates</th>\n",
       "    </tr>\n",
       "  </thead>\n",
       "  <tbody>\n",
       "    <tr>\n",
       "      <th>0</th>\n",
       "      <td>P</td>\n",
       "      <td>AZ</td>\n",
       "      <td>Biden</td>\n",
       "      <td>0.003</td>\n",
       "      <td>0.494</td>\n",
       "      <td>0.501523</td>\n",
       "      <td>BIDEN|TRUMP</td>\n",
       "    </tr>\n",
       "    <tr>\n",
       "      <th>1</th>\n",
       "      <td>P</td>\n",
       "      <td>FL</td>\n",
       "      <td>Trump</td>\n",
       "      <td>-0.034</td>\n",
       "      <td>0.479</td>\n",
       "      <td>0.483350</td>\n",
       "      <td>BIDEN|TRUMP</td>\n",
       "    </tr>\n",
       "    <tr>\n",
       "      <th>2</th>\n",
       "      <td>P</td>\n",
       "      <td>GA</td>\n",
       "      <td>Biden</td>\n",
       "      <td>0.003</td>\n",
       "      <td>0.495</td>\n",
       "      <td>0.501012</td>\n",
       "      <td>BIDEN|TRUMP</td>\n",
       "    </tr>\n",
       "    <tr>\n",
       "      <th>3</th>\n",
       "      <td>P</td>\n",
       "      <td>IA</td>\n",
       "      <td>Trump</td>\n",
       "      <td>-0.082</td>\n",
       "      <td>0.449</td>\n",
       "      <td>0.458163</td>\n",
       "      <td>BIDEN|TRUMP</td>\n",
       "    </tr>\n",
       "    <tr>\n",
       "      <th>4</th>\n",
       "      <td>P</td>\n",
       "      <td>ME2</td>\n",
       "      <td>Trump</td>\n",
       "      <td>-0.079</td>\n",
       "      <td>0.447</td>\n",
       "      <td>0.458932</td>\n",
       "      <td>BIDEN|TRUMP</td>\n",
       "    </tr>\n",
       "  </tbody>\n",
       "</table>\n",
       "</div>"
      ],
      "text/plain": [
       "  office state winner  dem_diff  dem_share  dem_share_2p   candidates\n",
       "0      P    AZ  Biden     0.003      0.494      0.501523  BIDEN|TRUMP\n",
       "1      P    FL  Trump    -0.034      0.479      0.483350  BIDEN|TRUMP\n",
       "2      P    GA  Biden     0.003      0.495      0.501012  BIDEN|TRUMP\n",
       "3      P    IA  Trump    -0.082      0.449      0.458163  BIDEN|TRUMP\n",
       "4      P   ME2  Trump    -0.079      0.447      0.458932  BIDEN|TRUMP"
      ]
     },
     "execution_count": 4,
     "metadata": {},
     "output_type": "execute_result"
    }
   ],
   "source": [
    "winners.head()"
   ]
  },
  {
   "cell_type": "code",
   "execution_count": 2,
   "metadata": {},
   "outputs": [],
   "source": [
    "# Counting only Maine and Nebraska's statewide electoral votes\n",
    "ELECTORAL_VOTES = pd.Series({\n",
    "    \"AL\": 9, \"AK\": 3, \"AZ\": 11, \"AR\": 6, \"CA\": 55, \"CO\": 9, \"CT\": 7,\n",
    "    \"DE\": 3, \"DC\": 3, \"FL\": 29, \"GA\": 16, \"HI\": 4, \"ID\": 4, \"IL\": 20, \"IN\": 11,\n",
    "    \"IA\": 6, \"KS\": 6, \"KY\": 8, \"LA\": 8, \"ME\": 2, \"MD\": 10, \"MA\": 11, \"MI\": 16,\n",
    "    \"MN\": 10, \"MS\": 6, \"MO\": 10, \"MT\": 3, \"NE\": 2, \"NV\": 6, \"NH\": 4, \"NJ\": 14,\n",
    "    \"NM\": 5, \"NY\": 29, \"NC\": 15, \"ND\": 3, \"OH\": 18, \"OK\": 7, \"OR\": 7, \"PA\": 20,\n",
    "    \"RI\": 4, \"SC\": 9, \"SD\": 3, \"TN\": 11, \"TX\": 38, \"UT\": 6, \"VT\": 3,\n",
    "    \"VA\": 13, \"WA\": 12, \"WV\": 5, \"WI\": 10, \"WY\": 3\n",
    "})\n",
    "\n",
    "def get_evs(abbr):\n",
    "    return ELECTORAL_VOTES.get(abbr)"
   ]
  },
  {
   "cell_type": "code",
   "execution_count": 5,
   "metadata": {},
   "outputs": [],
   "source": [
    "evs_called = pd.Series(winners[\n",
    "    (winners[\"office\"] == \"P\") &\n",
    "    (winners[\"winner\"].notnull())\n",
    "][\"state\"].unique()).apply(get_evs).sum()"
   ]
  },
  {
   "cell_type": "code",
   "execution_count": 6,
   "metadata": {},
   "outputs": [],
   "source": [
    "def get_credits(race):\n",
    "    max_prob = race[\"win_prob\"].max()\n",
    "    at_max = race[\"win_prob\"] == max_prob\n",
    "    favorites = race[at_max]\n",
    "    credit = (1 / len(favorites)) * favorites[\"correct\"]\n",
    "    return credit.sum()"
   ]
  },
  {
   "cell_type": "code",
   "execution_count": 7,
   "metadata": {},
   "outputs": [],
   "source": [
    "def brier_score_race_statelevel(called_forecast):\n",
    "    uniques = called_forecast[[\n",
    "        \"date\", \"office\", \"state\", \"model\"\n",
    "    ]].apply(lambda x: x.nunique())\n",
    "    assert((uniques != 1).sum() == 0)\n",
    "    errors = called_forecast[\"win_prob\"] - called_forecast[\"correct\"]\n",
    "    errors_squared = (errors).pow(2).sum()\n",
    "    # If you didn't put odds on the candidate, add 1\n",
    "    if called_forecast[\"correct\"].sum() == 0:\n",
    "        errors_squared += 1\n",
    "    return errors_squared / 2  # divide by 2 bc there are 2 forecasts: Biden and Trump"
   ]
  },
  {
   "cell_type": "code",
   "execution_count": 11,
   "metadata": {},
   "outputs": [],
   "source": [
    "def forecast_scores_statelevel(forecasts):\n",
    "    called = pd.merge(winners, forecasts, on=['office', 'state'], how='left').dropna(\n",
    "        subset=['winner'])\n",
    "    called['correct'] = called['winner'] == called['candidate']\n",
    "    \n",
    "    scores = pd.merge(\n",
    "        called, forecasts[['date', 'model']].drop_duplicates(),\n",
    "        how='inner', on=['date', 'model']\n",
    "    ).groupby([\n",
    "        'date', 'office', 'state', 'model']).apply(brier_score_race_statelevel)\\\n",
    "            .reset_index()\\\n",
    "            .rename(columns={0: 'brier_score'})\n",
    "    scores.loc[((scores['office'] == 'P')), 'brier_evs'] = scores.apply(\n",
    "        lambda x: x['brier_score'] * get_evs(x['state']), axis=1)\n",
    "    credits = pd.DataFrame({\n",
    "        \"credit\": called.groupby([\n",
    "                \"date\", \"model\", \"office\", \"state\"\n",
    "            ]).apply(get_credits)\n",
    "    }).reset_index()\n",
    "    scores = pd.DataFrame({\n",
    "        \"pres_brier_flat\": scores.groupby(\"model\")[\"brier_score\"].mean(),\n",
    "        \"pres_brier_evs\": scores.groupby(\"model\")[\"brier_evs\"].sum() / evs_called,\n",
    "        \"pres_correct\": credits[credits[\"office\"] == \"P\"].groupby(\"model\")[\"credit\"].sum(),\n",
    "    })\n",
    "    return scores\n",
    "    "
   ]
  },
  {
   "cell_type": "code",
   "execution_count": 9,
   "metadata": {},
   "outputs": [
    {
     "data": {
      "text/html": [
       "<div>\n",
       "<style scoped>\n",
       "    .dataframe tbody tr th:only-of-type {\n",
       "        vertical-align: middle;\n",
       "    }\n",
       "\n",
       "    .dataframe tbody tr th {\n",
       "        vertical-align: top;\n",
       "    }\n",
       "\n",
       "    .dataframe thead th {\n",
       "        text-align: right;\n",
       "    }\n",
       "</style>\n",
       "<table border=\"1\" class=\"dataframe\">\n",
       "  <thead>\n",
       "    <tr style=\"text-align: right;\">\n",
       "      <th></th>\n",
       "      <th>date</th>\n",
       "      <th>model</th>\n",
       "      <th>office</th>\n",
       "      <th>state</th>\n",
       "      <th>party</th>\n",
       "      <th>candidate</th>\n",
       "      <th>win_prob</th>\n",
       "      <th>est_diff</th>\n",
       "      <th>est_share</th>\n",
       "      <th>est_share_2p</th>\n",
       "    </tr>\n",
       "  </thead>\n",
       "  <tbody>\n",
       "    <tr>\n",
       "      <th>0</th>\n",
       "      <td>2020-11-03</td>\n",
       "      <td>fivethirtyeight-polls-plus</td>\n",
       "      <td>P</td>\n",
       "      <td>WY</td>\n",
       "      <td>D</td>\n",
       "      <td>Biden</td>\n",
       "      <td>0.001625</td>\n",
       "      <td>-0.347310</td>\n",
       "      <td>NaN</td>\n",
       "      <td>0.320649</td>\n",
       "    </tr>\n",
       "    <tr>\n",
       "      <th>1</th>\n",
       "      <td>2020-11-03</td>\n",
       "      <td>fivethirtyeight-polls-plus</td>\n",
       "      <td>P</td>\n",
       "      <td>WY</td>\n",
       "      <td>R</td>\n",
       "      <td>Trump</td>\n",
       "      <td>0.998375</td>\n",
       "      <td>0.347310</td>\n",
       "      <td>NaN</td>\n",
       "      <td>0.679351</td>\n",
       "    </tr>\n",
       "    <tr>\n",
       "      <th>2</th>\n",
       "      <td>2020-11-03</td>\n",
       "      <td>fivethirtyeight-polls-plus</td>\n",
       "      <td>P</td>\n",
       "      <td>WI</td>\n",
       "      <td>D</td>\n",
       "      <td>Biden</td>\n",
       "      <td>0.943575</td>\n",
       "      <td>0.083110</td>\n",
       "      <td>NaN</td>\n",
       "      <td>0.541946</td>\n",
       "    </tr>\n",
       "    <tr>\n",
       "      <th>3</th>\n",
       "      <td>2020-11-03</td>\n",
       "      <td>fivethirtyeight-polls-plus</td>\n",
       "      <td>P</td>\n",
       "      <td>WI</td>\n",
       "      <td>R</td>\n",
       "      <td>Trump</td>\n",
       "      <td>0.056425</td>\n",
       "      <td>-0.083110</td>\n",
       "      <td>NaN</td>\n",
       "      <td>0.458054</td>\n",
       "    </tr>\n",
       "    <tr>\n",
       "      <th>4</th>\n",
       "      <td>2020-11-03</td>\n",
       "      <td>fivethirtyeight-polls-plus</td>\n",
       "      <td>P</td>\n",
       "      <td>WV</td>\n",
       "      <td>D</td>\n",
       "      <td>Biden</td>\n",
       "      <td>0.007175</td>\n",
       "      <td>-0.307147</td>\n",
       "      <td>NaN</td>\n",
       "      <td>0.343702</td>\n",
       "    </tr>\n",
       "  </tbody>\n",
       "</table>\n",
       "</div>"
      ],
      "text/plain": [
       "         date                       model office state party candidate  \\\n",
       "0  2020-11-03  fivethirtyeight-polls-plus      P    WY     D     Biden   \n",
       "1  2020-11-03  fivethirtyeight-polls-plus      P    WY     R     Trump   \n",
       "2  2020-11-03  fivethirtyeight-polls-plus      P    WI     D     Biden   \n",
       "3  2020-11-03  fivethirtyeight-polls-plus      P    WI     R     Trump   \n",
       "4  2020-11-03  fivethirtyeight-polls-plus      P    WV     D     Biden   \n",
       "\n",
       "   win_prob  est_diff  est_share  est_share_2p  \n",
       "0  0.001625 -0.347310        NaN      0.320649  \n",
       "1  0.998375  0.347310        NaN      0.679351  \n",
       "2  0.943575  0.083110        NaN      0.541946  \n",
       "3  0.056425 -0.083110        NaN      0.458054  \n",
       "4  0.007175 -0.307147        NaN      0.343702  "
      ]
     },
     "execution_count": 9,
     "metadata": {},
     "output_type": "execute_result"
    }
   ],
   "source": [
    "fivethirtyeight_sl = pd.read_csv(os.path.join(DATA_DIR, 'state-level', 'fivethirtyeight.csv'))\n",
    "fivethirtyeight_sl.head()"
   ]
  },
  {
   "cell_type": "code",
   "execution_count": 12,
   "metadata": {},
   "outputs": [],
   "source": [
    "fivethirtyeight_sl_history = fivethirtyeight_sl[fivethirtyeight_sl[\"date\"] >= \"2020-06-01\"].groupby(\"date\")\\\n",
    "    .apply(lambda x: forecast_scores_statelevel(x))"
   ]
  },
  {
   "cell_type": "code",
   "execution_count": 13,
   "metadata": {},
   "outputs": [
    {
     "data": {
      "text/html": [
       "<div>\n",
       "<style scoped>\n",
       "    .dataframe tbody tr th:only-of-type {\n",
       "        vertical-align: middle;\n",
       "    }\n",
       "\n",
       "    .dataframe tbody tr th {\n",
       "        vertical-align: top;\n",
       "    }\n",
       "\n",
       "    .dataframe thead th {\n",
       "        text-align: right;\n",
       "    }\n",
       "</style>\n",
       "<table border=\"1\" class=\"dataframe\">\n",
       "  <thead>\n",
       "    <tr style=\"text-align: right;\">\n",
       "      <th></th>\n",
       "      <th></th>\n",
       "      <th>pres_brier_flat</th>\n",
       "      <th>pres_brier_evs</th>\n",
       "      <th>pres_correct</th>\n",
       "    </tr>\n",
       "    <tr>\n",
       "      <th>date</th>\n",
       "      <th>model</th>\n",
       "      <th></th>\n",
       "      <th></th>\n",
       "      <th></th>\n",
       "    </tr>\n",
       "  </thead>\n",
       "  <tbody>\n",
       "    <tr>\n",
       "      <th>2020-06-01</th>\n",
       "      <th>fivethirtyeight-polls-plus</th>\n",
       "      <td>0.043574</td>\n",
       "      <td>0.067323</td>\n",
       "      <td>48.0</td>\n",
       "    </tr>\n",
       "    <tr>\n",
       "      <th>2020-06-02</th>\n",
       "      <th>fivethirtyeight-polls-plus</th>\n",
       "      <td>0.043695</td>\n",
       "      <td>0.067640</td>\n",
       "      <td>48.0</td>\n",
       "    </tr>\n",
       "    <tr>\n",
       "      <th>2020-06-03</th>\n",
       "      <th>fivethirtyeight-polls-plus</th>\n",
       "      <td>0.043429</td>\n",
       "      <td>0.067301</td>\n",
       "      <td>48.0</td>\n",
       "    </tr>\n",
       "    <tr>\n",
       "      <th>2020-06-04</th>\n",
       "      <th>fivethirtyeight-polls-plus</th>\n",
       "      <td>0.043279</td>\n",
       "      <td>0.067018</td>\n",
       "      <td>48.0</td>\n",
       "    </tr>\n",
       "    <tr>\n",
       "      <th>2020-06-05</th>\n",
       "      <th>fivethirtyeight-polls-plus</th>\n",
       "      <td>0.043627</td>\n",
       "      <td>0.065896</td>\n",
       "      <td>48.0</td>\n",
       "    </tr>\n",
       "    <tr>\n",
       "      <th>...</th>\n",
       "      <th>...</th>\n",
       "      <td>...</td>\n",
       "      <td>...</td>\n",
       "      <td>...</td>\n",
       "    </tr>\n",
       "    <tr>\n",
       "      <th>2020-10-30</th>\n",
       "      <th>fivethirtyeight-polls-plus</th>\n",
       "      <td>0.035627</td>\n",
       "      <td>0.062752</td>\n",
       "      <td>49.0</td>\n",
       "    </tr>\n",
       "    <tr>\n",
       "      <th>2020-10-31</th>\n",
       "      <th>fivethirtyeight-polls-plus</th>\n",
       "      <td>0.034846</td>\n",
       "      <td>0.063489</td>\n",
       "      <td>49.0</td>\n",
       "    </tr>\n",
       "    <tr>\n",
       "      <th>2020-11-01</th>\n",
       "      <th>fivethirtyeight-polls-plus</th>\n",
       "      <td>0.035638</td>\n",
       "      <td>0.065582</td>\n",
       "      <td>49.0</td>\n",
       "    </tr>\n",
       "    <tr>\n",
       "      <th>2020-11-02</th>\n",
       "      <th>fivethirtyeight-polls-plus</th>\n",
       "      <td>0.035858</td>\n",
       "      <td>0.066141</td>\n",
       "      <td>49.0</td>\n",
       "    </tr>\n",
       "    <tr>\n",
       "      <th>2020-11-03</th>\n",
       "      <th>fivethirtyeight-polls-plus</th>\n",
       "      <td>0.035900</td>\n",
       "      <td>0.066183</td>\n",
       "      <td>49.0</td>\n",
       "    </tr>\n",
       "  </tbody>\n",
       "</table>\n",
       "<p>156 rows × 3 columns</p>\n",
       "</div>"
      ],
      "text/plain": [
       "                                       pres_brier_flat  pres_brier_evs  \\\n",
       "date       model                                                         \n",
       "2020-06-01 fivethirtyeight-polls-plus         0.043574        0.067323   \n",
       "2020-06-02 fivethirtyeight-polls-plus         0.043695        0.067640   \n",
       "2020-06-03 fivethirtyeight-polls-plus         0.043429        0.067301   \n",
       "2020-06-04 fivethirtyeight-polls-plus         0.043279        0.067018   \n",
       "2020-06-05 fivethirtyeight-polls-plus         0.043627        0.065896   \n",
       "...                                                ...             ...   \n",
       "2020-10-30 fivethirtyeight-polls-plus         0.035627        0.062752   \n",
       "2020-10-31 fivethirtyeight-polls-plus         0.034846        0.063489   \n",
       "2020-11-01 fivethirtyeight-polls-plus         0.035638        0.065582   \n",
       "2020-11-02 fivethirtyeight-polls-plus         0.035858        0.066141   \n",
       "2020-11-03 fivethirtyeight-polls-plus         0.035900        0.066183   \n",
       "\n",
       "                                       pres_correct  \n",
       "date       model                                     \n",
       "2020-06-01 fivethirtyeight-polls-plus          48.0  \n",
       "2020-06-02 fivethirtyeight-polls-plus          48.0  \n",
       "2020-06-03 fivethirtyeight-polls-plus          48.0  \n",
       "2020-06-04 fivethirtyeight-polls-plus          48.0  \n",
       "2020-06-05 fivethirtyeight-polls-plus          48.0  \n",
       "...                                             ...  \n",
       "2020-10-30 fivethirtyeight-polls-plus          49.0  \n",
       "2020-10-31 fivethirtyeight-polls-plus          49.0  \n",
       "2020-11-01 fivethirtyeight-polls-plus          49.0  \n",
       "2020-11-02 fivethirtyeight-polls-plus          49.0  \n",
       "2020-11-03 fivethirtyeight-polls-plus          49.0  \n",
       "\n",
       "[156 rows x 3 columns]"
      ]
     },
     "execution_count": 13,
     "metadata": {},
     "output_type": "execute_result"
    }
   ],
   "source": [
    "fivethirtyeight_sl_history"
   ]
  },
  {
   "cell_type": "code",
   "execution_count": 14,
   "metadata": {},
   "outputs": [],
   "source": [
    "COLORS = [ \n",
    "    \"#a6cee3\", \"#1f78b4\", \"#b2df8a\", \"#33a02c\", \"#fb9a99\", \"#e31a1c\", \n",
    "    \"#fdbf6f\", \"#ff7f00\", \"#cab2d6\", \"#6a3d9a\", \"#ffff99\", \"#b15928\"\n",
    "] # via ColorBrewer2.org\n",
    "\n",
    "def plot_history_statelevel(history, var, title=\"\"):\n",
    "    chart_min = history[var].max()*1.1\n",
    "    chart_max = history[var].min()/1.1\n",
    "    vals = history[var].unstack()#.rename(columns=TRANSLATIONS)\n",
    "    vals.index = pd.to_datetime(vals.index)\n",
    "    ax = vals.plot(\n",
    "        ylim=(chart_min, chart_max),\n",
    "        color=COLORS,\n",
    "        marker=\"o\",\n",
    "        markersize=5,\n",
    "        alpha=0.75,\n",
    "        figsize=(10, 6),\n",
    "    )\n",
    "    #ax.set_axis_bgcolor('black')\n",
    "    ax.xaxis.grid(False)\n",
    "    ax.yaxis.grid(True, color=\"white\", alpha=0.5)\n",
    "    #sb.plt.vlines([\"2016-11-07\"], ymin=chart_min, ymax=chart_max, lw=1, alpha=0.9, color=\"white\")\n",
    "    ax.set_xlim((ax.get_xlim()[0] - 1, ax.get_xlim()[1] + 1))\n",
    "    ax.set_xlabel(\"\")\n",
    "    #for text in ax.legend(loc=\"lower left\").get_texts():\n",
    "    #    text.set_color(\"white\")\n",
    "    #    text.set_weight(\"bold\")\n",
    "    ax.set_title(title, fontsize=18)"
   ]
  },
  {
   "cell_type": "code",
   "execution_count": 15,
   "metadata": {},
   "outputs": [
    {
     "data": {
      "image/png": "[encoded data removed]",
      "text/plain": [
       "<Figure size 720x432 with 1 Axes>"
      ]
     },
     "metadata": {
      "needs_background": "light"
     },
     "output_type": "display_data"
    }
   ],
   "source": [
    "plot_history_statelevel(fivethirtyeight_sl_history,\n",
    "                        \"pres_brier_evs\", \"EV-Weighted Brier Score, By Date Of Forecast\")"
   ]
  },
  {
   "cell_type": "code",
   "execution_count": 17,
   "metadata": {},
   "outputs": [
    {
     "data": {
      "image/png": "[encoded data removed]",
      "text/plain": [
       "<Figure size 720x432 with 1 Axes>"
      ]
     },
     "metadata": {
      "needs_background": "light"
     },
     "output_type": "display_data"
    }
   ],
   "source": [
    "plot_history_statelevel(fivethirtyeight_sl_history,\n",
    "             \"pres_brier_flat\", \"Brier Score, By Date Of Forecast\")"
   ]
  },
  {
   "cell_type": "markdown",
   "metadata": {},
   "source": [
    "## national-level"
   ]
  },
  {
   "cell_type": "markdown",
   "metadata": {},
   "source": [
    "Hard-coded proportion of votes for the different parties, pulled from the [Cook political report](https://cookpolitical.com/2020-national-popular-vote-tracker)"
   ]
  },
  {
   "cell_type": "code",
   "execution_count": 22,
   "metadata": {},
   "outputs": [],
   "source": [
    "DEM_VOTE_P = .51\n",
    "REP_VOTE_P = .472\n",
    "OTHER_VOTE_P = .018\n",
    "\n",
    "DEM_MARGIN = .039"
   ]
  },
  {
   "cell_type": "code",
   "execution_count": 23,
   "metadata": {},
   "outputs": [],
   "source": [
    "DEM_VOTE_2P = DEM_VOTE_P / (DEM_VOTE_P + REP_VOTE_P)\n",
    "REP_VOTE_2P = REP_VOTE_P / (DEM_VOTE_P + REP_VOTE_P)"
   ]
  },
  {
   "cell_type": "code",
   "execution_count": 63,
   "metadata": {},
   "outputs": [],
   "source": [
    "def brier_score_nat_outcome(called_forecast):\n",
    "    if called_forecast['win_prob'].isnull().values.any():\n",
    "        return np.nan\n",
    "    uniques = called_forecast[[\n",
    "        \"date\", \"office\", \"model\"\n",
    "    ]].apply(lambda x: x.nunique())\n",
    "    assert((uniques != 1).sum() == 0)\n",
    "    errors = called_forecast[\"win_prob\"] - called_forecast[\"win_correct\"]\n",
    "    errors_squared = (errors).pow(2).sum()\n",
    "    # If you didn't put odds on the candidate, add 1\n",
    "    if called_forecast[\"win_correct\"].sum() == 0:\n",
    "        errors_squared += 1\n",
    "    return errors_squared / 2  # 2 forecasts - Biden and Trump"
   ]
  },
  {
   "cell_type": "code",
   "execution_count": 57,
   "metadata": {},
   "outputs": [],
   "source": [
    "def brier_score_nat_voteshare(called_forecast):\n",
    "    if called_forecast['est_share_2p'].isnull().values.any():\n",
    "        return np.nan\n",
    "    uniques = called_forecast[[\n",
    "        \"date\", \"office\", \"model\"\n",
    "    ]].apply(lambda x: x.nunique())\n",
    "    assert((uniques != 1).sum() == 0)\n",
    "    errors = called_forecast[\"est_share_2p\"] - called_forecast[\"vote_2p_correct\"]\n",
    "    errors_squared = (errors).pow(2).sum()\n",
    "    # If you didn't put odds on the candidate, add 1\n",
    "    if called_forecast[\"vote_2p_correct\"].sum() == 0:\n",
    "        errors_squared += 1\n",
    "    return errors_squared / 2  # 2 forecasts - Biden and Trump"
   ]
  },
  {
   "cell_type": "code",
   "execution_count": 86,
   "metadata": {},
   "outputs": [],
   "source": [
    "def forecast_scores_nat(forecasts):\n",
    "    forecasts['win_correct'] = 'Biden' == forecasts['candidate']\n",
    "    forecasts['vote_2p_correct'] = [\n",
    "        DEM_VOTE_2P if p == 'Biden' else REP_VOTE_2P for p in forecasts['candidate']]\n",
    "    win_scores = forecasts.groupby([\n",
    "        'date', 'office', 'model']).apply(brier_score_nat_outcome)\\\n",
    "        .reset_index()\\\n",
    "        .rename(columns={0: 'pres_win_brier'})\n",
    "    voteshare_scores = forecasts.groupby([\n",
    "        'date', 'office', 'model']).apply(brier_score_nat_voteshare)\\\n",
    "        .reset_index()\\\n",
    "        .rename(columns={0: 'pres_voteshare_brier'})\n",
    "    scores = pd.merge(\n",
    "        win_scores, voteshare_scores, on=['date', 'office', 'model'])\n",
    "    #scores.set_index(['date'], inplace=True)\n",
    "    \n",
    "    return scores\n",
    "    "
   ]
  },
  {
   "cell_type": "code",
   "execution_count": 21,
   "metadata": {},
   "outputs": [
    {
     "name": "stdout",
     "output_type": "stream",
     "text": [
      "pollyvote.csv\n",
      "fivethirtyeight.csv\n",
      "predictit.csv\n",
      "economist.csv\n"
     ]
    },
    {
     "data": {
      "text/plain": [
       "(1076, 9)"
      ]
     },
     "execution_count": 21,
     "metadata": {},
     "output_type": "execute_result"
    }
   ],
   "source": [
    "source_dfs = []\n",
    "for fn in os.listdir(os.path.join(DATA_DIR, 'national-level')):\n",
    "    print(fn)\n",
    "    df = pd.read_csv(os.path.join(DATA_DIR, 'national-level', fn))\n",
    "    source_dfs.append(df)\n",
    "national_forecasts = pd.concat(source_dfs, axis=0)\n",
    "national_forecasts.shape"
   ]
  },
  {
   "cell_type": "code",
   "execution_count": 87,
   "metadata": {},
   "outputs": [],
   "source": [
    "model_histories_nl = national_forecasts.groupby(\"model\")\\\n",
    "    .apply(lambda x: forecast_scores_nat(x))"
   ]
  },
  {
   "cell_type": "code",
   "execution_count": 88,
   "metadata": {},
   "outputs": [
    {
     "data": {
      "text/html": [
       "<div>\n",
       "<style scoped>\n",
       "    .dataframe tbody tr th:only-of-type {\n",
       "        vertical-align: middle;\n",
       "    }\n",
       "\n",
       "    .dataframe tbody tr th {\n",
       "        vertical-align: top;\n",
       "    }\n",
       "\n",
       "    .dataframe thead th {\n",
       "        text-align: right;\n",
       "    }\n",
       "</style>\n",
       "<table border=\"1\" class=\"dataframe\">\n",
       "  <thead>\n",
       "    <tr style=\"text-align: right;\">\n",
       "      <th></th>\n",
       "      <th></th>\n",
       "      <th>date</th>\n",
       "      <th>office</th>\n",
       "      <th>model</th>\n",
       "      <th>pres_win_brier</th>\n",
       "      <th>pres_voteshare_brier</th>\n",
       "    </tr>\n",
       "    <tr>\n",
       "      <th>model</th>\n",
       "      <th></th>\n",
       "      <th></th>\n",
       "      <th></th>\n",
       "      <th></th>\n",
       "      <th></th>\n",
       "      <th></th>\n",
       "    </tr>\n",
       "  </thead>\n",
       "  <tbody>\n",
       "    <tr>\n",
       "      <th rowspan=\"5\" valign=\"top\">PredictIt</th>\n",
       "      <th>0</th>\n",
       "      <td>2020-08-24</td>\n",
       "      <td>P</td>\n",
       "      <td>PredictIt</td>\n",
       "      <td>0.178994</td>\n",
       "      <td>NaN</td>\n",
       "    </tr>\n",
       "    <tr>\n",
       "      <th>1</th>\n",
       "      <td>2020-08-25</td>\n",
       "      <td>P</td>\n",
       "      <td>PredictIt</td>\n",
       "      <td>0.187223</td>\n",
       "      <td>NaN</td>\n",
       "    </tr>\n",
       "    <tr>\n",
       "      <th>2</th>\n",
       "      <td>2020-08-26</td>\n",
       "      <td>P</td>\n",
       "      <td>PredictIt</td>\n",
       "      <td>0.199453</td>\n",
       "      <td>NaN</td>\n",
       "    </tr>\n",
       "    <tr>\n",
       "      <th>3</th>\n",
       "      <td>2020-08-27</td>\n",
       "      <td>P</td>\n",
       "      <td>PredictIt</td>\n",
       "      <td>0.199453</td>\n",
       "      <td>NaN</td>\n",
       "    </tr>\n",
       "    <tr>\n",
       "      <th>4</th>\n",
       "      <td>2020-08-28</td>\n",
       "      <td>P</td>\n",
       "      <td>PredictIt</td>\n",
       "      <td>0.208219</td>\n",
       "      <td>NaN</td>\n",
       "    </tr>\n",
       "  </tbody>\n",
       "</table>\n",
       "</div>"
      ],
      "text/plain": [
       "                   date office      model  pres_win_brier  \\\n",
       "model                                                       \n",
       "PredictIt 0  2020-08-24      P  PredictIt        0.178994   \n",
       "          1  2020-08-25      P  PredictIt        0.187223   \n",
       "          2  2020-08-26      P  PredictIt        0.199453   \n",
       "          3  2020-08-27      P  PredictIt        0.199453   \n",
       "          4  2020-08-28      P  PredictIt        0.208219   \n",
       "\n",
       "             pres_voteshare_brier  \n",
       "model                              \n",
       "PredictIt 0                   NaN  \n",
       "          1                   NaN  \n",
       "          2                   NaN  \n",
       "          3                   NaN  \n",
       "          4                   NaN  "
      ]
     },
     "execution_count": 88,
     "metadata": {},
     "output_type": "execute_result"
    }
   ],
   "source": [
    "model_histories_nl.head()"
   ]
  },
  {
   "cell_type": "code",
   "execution_count": 90,
   "metadata": {},
   "outputs": [],
   "source": [
    "model_histories_nl = model_histories_nl.set_index(['date', 'model'])"
   ]
  },
  {
   "cell_type": "code",
   "execution_count": 96,
   "metadata": {},
   "outputs": [],
   "source": [
    "COLORS = [ \n",
    "    \"#a6cee3\", \"#1f78b4\", \"#b2df8a\", \"#33a02c\", \"#fb9a99\", \"#e31a1c\", \n",
    "    \"#fdbf6f\", \"#ff7f00\", \"#cab2d6\", \"#6a3d9a\", \"#ffff99\", \"#b15928\"\n",
    "] # via ColorBrewer2.org\n",
    "\n",
    "def plot_history_nationallevel(history, var, title=\"\"):\n",
    "    chart_min = history[var].max()*1.1\n",
    "    chart_max = history[var].min()/1.1\n",
    "    vals = history[var].unstack()#.rename(columns=TRANSLATIONS)\n",
    "    vals.index = pd.to_datetime(vals.index)\n",
    "    ax = vals.plot(\n",
    "        ylim=(chart_min, chart_max),\n",
    "        color=COLORS,\n",
    "        marker=\"o\",\n",
    "        markersize=5,\n",
    "        alpha=0.75,\n",
    "        figsize=(18, 6),\n",
    "    )\n",
    "    #ax.set_axis_bgcolor('black')\n",
    "    ax.xaxis.grid(False)\n",
    "    ax.yaxis.grid(True, color=\"white\", alpha=0.5)\n",
    "    #sb.plt.vlines([\"2016-11-07\"], ymin=chart_min, ymax=chart_max, lw=1, alpha=0.9, color=\"white\")\n",
    "    ax.set_xlim((ax.get_xlim()[0] - 1, ax.get_xlim()[1] + 1))\n",
    "    ax.set_xlabel(\"\")\n",
    "    #for text in ax.legend(loc=\"lower left\").get_texts():\n",
    "    #    text.set_color(\"white\")\n",
    "    #    text.set_weight(\"bold\")\n",
    "    ax.set_title(title, fontsize=18)"
   ]
  },
  {
   "cell_type": "code",
   "execution_count": 97,
   "metadata": {},
   "outputs": [
    {
     "data": {
      "image/png": "[encoded data removed]",
      "text/plain": [
       "<Figure size 1296x432 with 1 Axes>"
      ]
     },
     "metadata": {
      "needs_background": "light"
     },
     "output_type": "display_data"
    }
   ],
   "source": [
    "plot_history_nationallevel(model_histories_nl, 'pres_win_brier', title='National vote outcome, Brier Score')"
   ]
  },
  {
   "cell_type": "code",
   "execution_count": null,
   "metadata": {},
   "outputs": [],
   "source": []
  }
 ],
 "metadata": {
  "kernelspec": {
   "display_name": "Python [conda env:mbt-envk]",
   "language": "python",
   "name": "conda-env-mbt-envk-py"
  },
  "language_info": {
   "codemirror_mode": {
    "name": "ipython",
    "version": 3
   },
   "file_extension": ".py",
   "mimetype": "text/x-python",
   "name": "python",
   "nbconvert_exporter": "python",
   "pygments_lexer": "ipython3",
   "version": "3.6.7"
  }
 },
 "nbformat": 4,
 "nbformat_minor": 2
}
